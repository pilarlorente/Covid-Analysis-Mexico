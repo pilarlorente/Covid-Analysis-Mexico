{
 "cells": [
  {
   "cell_type": "code",
   "execution_count": 1,
   "metadata": {},
   "outputs": [],
   "source": [
    "##### Import packages\n",
    "# Basic packages\n",
    "import pandas as pd\n",
    "import numpy as np\n",
    "import matplotlib.pyplot as plt\n",
    "import seaborn as sns\n",
    "\n",
    "# Modelling packages\n",
    "\n",
    "from sklearn.impute import SimpleImputer\n",
    "from imblearn.under_sampling import RandomUnderSampler\n",
    "#metrics\n",
    "from sklearn.model_selection import train_test_split\n",
    "from sklearn.metrics import accuracy_score\n",
    "from sklearn.metrics import plot_confusion_matrix\n",
    "from sklearn.metrics import classification_report\n",
    "#models\n",
    "from sklearn.ensemble import RandomForestClassifier\n",
    "from sklearn.linear_model import LogisticRegression\n",
    "\n",
    "# Other packages\n",
    "from datetime import datetime\n",
    "from collections import Counter\n",
    "\n",
    "# To avoid warnings\n",
    "import warnings\n",
    "warnings.filterwarnings(\"ignore\")"
   ]
  },
  {
   "cell_type": "code",
   "execution_count": 2,
   "metadata": {},
   "outputs": [],
   "source": [
    "##### Import data\n",
    "\n",
    "df_cov = pd.read_csv(\"201114COVID19MEXICO.csv\", encoding = \"ISO-8859-1\") # Covid-19 data"
   ]
  },
  {
   "cell_type": "markdown",
   "metadata": {},
   "source": [
    "## PREPROCESSING DATA\n"
   ]
  },
  {
   "cell_type": "code",
   "execution_count": 4,
   "metadata": {},
   "outputs": [],
   "source": [
    "##### Create a new column with the time difference between been positive in COVID-19 and die\n",
    "# Value 0 if the person doesn't die\n",
    "\n",
    "df_cov['FECHA_SINTOMAS'] = df_cov['FECHA_SINTOMAS'].apply(lambda x: datetime.strptime(x, '%Y-%m-%d'))\n",
    "df_cov['FECHA_DEF'] = df_cov['FECHA_DEF'].replace('9999-99-99', '2001-01-01')\n",
    "\n",
    "df_cov['FECHA_DEF'] = df_cov['FECHA_DEF'].apply(lambda x: datetime.strptime(x, '%Y-%m-%d'))\n",
    "df_cov['DIFERENCIA'] = df_cov['FECHA_DEF'].sub(df_cov['FECHA_SINTOMAS'], axis=0)\n",
    "\n",
    "df_cov['DIFERENCIA'] = df_cov['DIFERENCIA'] / np.timedelta64(1, 'D')\n",
    "df_cov.loc[df_cov['DIFERENCIA']<0,'DIFERENCIA'] = 0"
   ]
  },
  {
   "cell_type": "code",
   "execution_count": 5,
   "metadata": {},
   "outputs": [],
   "source": [
    "# Value 2 or 98 on diseases columns means that the person doesn't have the disease\n",
    "#Create a new column with 0= NO DISEASE and  1= disease\n",
    "\n",
    "ill_name = ['DIABETES','EPOC','ASMA','INMUSUPR','HIPERTENSION','OTRA_COM','CARDIOVASCULAR','OBESIDAD','RENAL_CRONICA']\n",
    "df_cov[ill_name] = df_cov[ill_name].replace([2,98],0)\n",
    "\n",
    "df_cov['n_ENFERMEDADES'] = df_cov[ill_name].sum(axis = 1)"
   ]
  },
  {
   "cell_type": "code",
   "execution_count": 6,
   "metadata": {},
   "outputs": [],
   "source": [
    "##### Create a new column (target) with boolean value: 0 if the person doesn't die, 1 otherwise\n",
    "\n",
    "df_cov.loc[df_cov['DIFERENCIA']==0,'MORTALIDAD'] = 0\n",
    "df_cov.loc[df_cov['DIFERENCIA']!=0,'MORTALIDAD'] = 1"
   ]
  },
  {
   "cell_type": "code",
   "execution_count": 7,
   "metadata": {},
   "outputs": [
    {
     "data": {
      "text/plain": [
       "FECHA_ACTUALIZACION     0.000000\n",
       "ID_REGISTRO             0.000000\n",
       "ORIGEN                  0.000000\n",
       "SECTOR                  0.000384\n",
       "ENTIDAD_UM              0.000000\n",
       "SEXO                    0.000000\n",
       "ENTIDAD_NAC             0.481791\n",
       "ENTIDAD_RES             0.000000\n",
       "MUNICIPIO_RES           0.725200\n",
       "TIPO_PACIENTE           0.000000\n",
       "FECHA_INGRESO           0.000000\n",
       "FECHA_SINTOMAS          0.000000\n",
       "FECHA_DEF               0.000000\n",
       "INTUBADO               85.005139\n",
       "NEUMONIA                0.702933\n",
       "EDAD                    0.028411\n",
       "NACIONALIDAD            0.000000\n",
       "EMBARAZO               48.965335\n",
       "HABLA_LENGUA_INDIG      3.813244\n",
       "INDIGENA                3.695570\n",
       "DIABETES                0.000000\n",
       "EPOC                    0.000000\n",
       "ASMA                    0.000000\n",
       "INMUSUPR                0.000000\n",
       "HIPERTENSION            0.000000\n",
       "OTRA_COM                0.000000\n",
       "CARDIOVASCULAR          0.000000\n",
       "OBESIDAD                0.000000\n",
       "RENAL_CRONICA           0.000000\n",
       "TABAQUISMO              0.319351\n",
       "OTRO_CASO              11.186992\n",
       "TOMA_MUESTRA            0.000000\n",
       "RESULTADO_LAB           8.309495\n",
       "CLASIFICACION_FINAL     0.000000\n",
       "MIGRANTE               99.592653\n",
       "PAIS_NACIONALIDAD       0.000000\n",
       "PAIS_ORIGEN             0.000000\n",
       "UCI                    85.026562\n",
       "DIFERENCIA              0.000384\n",
       "n_ENFERMEDADES          0.000000\n",
       "MORTALIDAD              0.000000\n",
       "dtype: float64"
      ]
     },
     "execution_count": 7,
     "metadata": {},
     "output_type": "execute_result"
    }
   ],
   "source": [
    "##### Replacing missing values with NaNs\n",
    "\n",
    "df_cov.replace([97,98,99],np.nan,inplace=True)\n",
    "df_cov.isnull().sum()/len(df_cov)*100"
   ]
  },
  {
   "cell_type": "code",
   "execution_count": 8,
   "metadata": {},
   "outputs": [],
   "source": [
    "##### Deleting columns with NaNs > 0.8\n",
    "df_cov.drop(columns=['INTUBADO', 'MIGRANTE', 'UCI'], inplace = True)"
   ]
  },
  {
   "cell_type": "code",
   "execution_count": null,
   "metadata": {},
   "outputs": [],
   "source": [
    "#SimpleImputer for missing values\n",
    "imputer = SimpleImputer(missing_values=np.nan, strategy='most_frequent')\n",
    "df_cov_imputer = imputer.fit_transform(df_cov)"
   ]
  },
  {
   "cell_type": "code",
   "execution_count": null,
   "metadata": {},
   "outputs": [],
   "source": [
    "df_cov = pd.DataFrame(df_cov_imputer, columns = df_cov.columns)"
   ]
  },
  {
   "cell_type": "code",
   "execution_count": null,
   "metadata": {},
   "outputs": [],
   "source": [
    "features = list(df_cov)\n",
    "remove = ['FECHA_ACTUALIZACION', 'ID_REGISTRO', 'FECHA_INGRESO','FECHA_SINTOMAS','FECHA_DEF','HABLA_LENGUA_INDIG','CLASIFICACION_FINAL',\n",
    "          'PAIS_NACIONALIDAD','RESULTADO_LAB','PAIS_ORIGEN','NACIONALIDAD','EMBARAZO','DIFERENCIA','MORTALIDAD']\n",
    "\n",
    "for col in remove:\n",
    "    features.remove(col)"
   ]
  },
  {
   "cell_type": "markdown",
   "metadata": {},
   "source": [
    "## MODELS"
   ]
  },
  {
   "cell_type": "code",
   "execution_count": null,
   "metadata": {},
   "outputs": [],
   "source": [
    "X = df_cov[features].values.astype('int')\n",
    "y = df_cov['MORTALIDAD'].values.astype('int')"
   ]
  },
  {
   "cell_type": "code",
   "execution_count": null,
   "metadata": {},
   "outputs": [],
   "source": [
    "#Hold out validation\n",
    "X_train, X_test, y_train, y_test = train_test_split(X, y, test_size=0.4, stratify=y)\n"
   ]
  },
  {
   "cell_type": "markdown",
   "metadata": {},
   "source": [
    "## Random Forest"
   ]
  },
  {
   "cell_type": "code",
   "execution_count": null,
   "metadata": {},
   "outputs": [],
   "source": [
    "##### Random Forest\n",
    "\n",
    "clf = RandomForestClassifier()\n",
    "clf.fit(X_train, y_train)\n",
    "\n",
    "yhat = clf.predict(X_test)\n",
    "print('Accuracy score: \\n',accuracy_score(y_test,yhat))\n",
    "\n",
    "#classification report\n",
    "print(classification_report(y_test, yhat, digits=3))\n",
    "\n",
    "#confusion matrix\n",
    "plot_confusion_matrix(clf, X_test, y_test,\n",
    "                             display_labels=[0,1],\n",
    "                             cmap=plt.cm.Blues,\n",
    "                             normalize=\"true\")\n",
    "plt.title('Confussion matrix on how the \\n model can predict mortality')\n",
    "plt.show()\n"
   ]
  },
  {
   "cell_type": "code",
   "execution_count": null,
   "metadata": {},
   "outputs": [],
   "source": [
    "#Feature Importance\n",
    "\n",
    "features_importance = clf.feature_importances_\n",
    "features_array = np.array(features)\n",
    "features_array_ordered = features_array[(features_importance).argsort()[::-1]]\n",
    "features_array_ordered\n",
    "\n",
    "plt.figure(figsize=(16,10))\n",
    "sns.barplot(y = features_array, x = features_importance, orient='h', order=features_array_ordered[:50])\n",
    "\n",
    "plt.show()"
   ]
  },
  {
   "cell_type": "markdown",
   "metadata": {},
   "source": [
    "## Logistic Regression"
   ]
  },
  {
   "cell_type": "code",
   "execution_count": null,
   "metadata": {},
   "outputs": [],
   "source": [
    "clf = LogisticRegression(solver='liblinear')\n",
    "clf.fit(X_train, y_train)\n",
    "\n",
    "yhat = clf.predict(X_test)\n",
    "print('Accuracy score: \\n',accuracy_score(y_test,yhat))\n",
    "\n",
    "#classification report\n",
    "print(classification_report(y_test, yhat, digits=3))\n",
    "\n",
    "#confusion matrix\n",
    "plot_confusion_matrix(clf, X_test, y_test,\n",
    "                             display_labels=[0,1],\n",
    "                             cmap=plt.cm.Blues,\n",
    "                             normalize=\"true\")\n",
    "plt.title('Confussion matrix on how the \\n model can predict mortality')\n",
    "plt.show()\n"
   ]
  },
  {
   "cell_type": "code",
   "execution_count": null,
   "metadata": {},
   "outputs": [],
   "source": [
    "#Feature Importance\n",
    "\n",
    "features_importance = clf.feature_importances_\n",
    "features_array = np.array(features)\n",
    "features_array_ordered = features_array[(features_importance).argsort()[::-1]]\n",
    "features_array_ordered\n",
    "\n",
    "plt.figure(figsize=(16,10))\n",
    "sns.barplot(y = features_array, x = features_importance, orient='h', order=features_array_ordered[:50])\n",
    "\n",
    "plt.show()"
   ]
  },
  {
   "cell_type": "markdown",
   "metadata": {},
   "source": [
    "## BALANCING CLASSES\n",
    "Undersampling method (80% of major class)"
   ]
  },
  {
   "cell_type": "code",
   "execution_count": null,
   "metadata": {},
   "outputs": [],
   "source": [
    "undersampling = RandomUnderSampler(sampling_strategy=0.8) \n",
    "X_balance, y_balance = undersampling.fit_resample(X, y)\n",
    "Counter(y_balance)"
   ]
  },
  {
   "cell_type": "code",
   "execution_count": null,
   "metadata": {},
   "outputs": [],
   "source": [
    "X_train, X_test, y_train, y_test = train_test_split(X_balance, y_balance, test_size=0.4)"
   ]
  },
  {
   "cell_type": "code",
   "execution_count": null,
   "metadata": {},
   "outputs": [],
   "source": [
    "##### Random Forest with undersampling\n",
    "\n",
    "clf = RandomForestClassifier()\n",
    "clf.fit(X_train, y_train)\n",
    "\n",
    "yhat = clf.predict(X_test)\n",
    "print('Accuracy score: \\n',accuracy_score(y_test,yhat))\n",
    "\n",
    "#classification report\n",
    "print(classification_report(y_test, yhat, digits=3))\n",
    "\n",
    "#confusion matrix\n",
    "plot_confusion_matrix(clf, X_test, y_test,\n",
    "                             display_labels=[0,1],\n",
    "                             cmap=plt.cm.Blues,\n",
    "                             normalize=\"true\")\n",
    "plt.title('Confussion matrix on how the \\n model can predict mortality')\n",
    "plt.show()\n"
   ]
  },
  {
   "cell_type": "code",
   "execution_count": null,
   "metadata": {},
   "outputs": [],
   "source": [
    "##### Logistic Regression with undersampling\n",
    "clf = LogisticRegression(solver='liblinear')\n",
    "clf.fit(X_train, y_train)\n",
    "\n",
    "yhat = clf.predict(X_test)\n",
    "print('Accuracy score: \\n',accuracy_score(y_test,yhat))\n",
    "\n",
    "#classification report\n",
    "print(classification_report(y_test, yhat, digits=3))\n",
    "\n",
    "#confusion matrix\n",
    "plot_confusion_matrix(clf, X_test, y_test,\n",
    "                             display_labels=[0,1],\n",
    "                             cmap=plt.cm.Blues,\n",
    "                             normalize=\"true\")\n",
    "plt.title('Confussion matrix on how the \\n model can predict mortality')\n",
    "plt.show()\n"
   ]
  }
 ],
 "metadata": {
  "kernelspec": {
   "display_name": "Python 3",
   "language": "python",
   "name": "python3"
  },
  "language_info": {
   "codemirror_mode": {
    "name": "ipython",
    "version": 3
   },
   "file_extension": ".py",
   "mimetype": "text/x-python",
   "name": "python",
   "nbconvert_exporter": "python",
   "pygments_lexer": "ipython3",
   "version": "3.8.3"
  }
 },
 "nbformat": 4,
 "nbformat_minor": 4
}
